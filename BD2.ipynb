{
  "nbformat": 4,
  "nbformat_minor": 0,
  "metadata": {
    "kernelspec": {
      "display_name": "Python 3",
      "language": "python",
      "name": "python3"
    },
    "language_info": {
      "codemirror_mode": {
        "name": "ipython",
        "version": 3
      },
      "file_extension": ".py",
      "mimetype": "text/x-python",
      "name": "python",
      "nbconvert_exporter": "python",
      "pygments_lexer": "ipython3",
      "version": "3.7.6"
    },
    "colab": {
      "provenance": [],
      "include_colab_link": true
    }
  },
  "cells": [
    {
      "cell_type": "markdown",
      "metadata": {
        "id": "view-in-github",
        "colab_type": "text"
      },
      "source": [
        "<a href=\"https://colab.research.google.com/github/pshenoWasTaken/MIREA/blob/main/BD2.ipynb\" target=\"_parent\"><img src=\"https://colab.research.google.com/assets/colab-badge.svg\" alt=\"Open In Colab\"/></a>"
      ]
    },
    {
      "cell_type": "code",
      "metadata": {
        "id": "exFkotWz7Lk_"
      },
      "source": [
        "%reload_ext sql\n",
        "%sql sqlite:///store.db"
      ],
      "execution_count": 22,
      "outputs": []
    },
    {
      "cell_type": "markdown",
      "metadata": {
        "id": "eEAq-gUB7LlF"
      },
      "source": [
        "## Задание 1\n",
        "Вывести 5 самых больших по размеру (в байтах) треков жанра Blues и формата MPEG. Только название и размер.\n"
      ]
    },
    {
      "cell_type": "code",
      "source": [
        "%config SqlMagic.style = '_DEPRECATED_DEFAULT'"
      ],
      "metadata": {
        "id": "RUKAw8KQMo93"
      },
      "execution_count": 23,
      "outputs": []
    },
    {
      "cell_type": "code",
      "source": [
        "%%sql\n",
        "SELECT t.name, t.bytes\n",
        "FROM tracks t\n",
        "INNER JOIN genres g ON t.GenreId = g.GenreId\n",
        "INNER JOIN media_types m ON t.MediaTypeId = m.MediaTypeId\n",
        "WHERE g.name = 'Blues'\n",
        "  AND m.name = 'MPEG audio file'\n",
        "ORDER BY t.bytes DESC\n",
        "LIMIT 5;\n",
        "\n"
      ],
      "metadata": {
        "id": "O7MqEcWciQHD",
        "colab": {
          "base_uri": "https://localhost:8080/",
          "height": 182
        },
        "outputId": "634800c1-bee7-4ae9-8998-77e3031abf50"
      },
      "execution_count": 25,
      "outputs": [
        {
          "output_type": "stream",
          "name": "stdout",
          "text": [
            " * sqlite:///store.db\n",
            "Done.\n"
          ]
        },
        {
          "output_type": "execute_result",
          "data": {
            "text/plain": [
              "[('Old Love', 15780747),\n",
              " ('Running On Faith', 12536275),\n",
              " ('Lonely Stranger', 10894406),\n",
              " ('Layla', 9490542),\n",
              " ('Tears In Heaven', 9032835)]"
            ],
            "text/html": [
              "<table>\n",
              "    <thead>\n",
              "        <tr>\n",
              "            <th>Name</th>\n",
              "            <th>Bytes</th>\n",
              "        </tr>\n",
              "    </thead>\n",
              "    <tbody>\n",
              "        <tr>\n",
              "            <td>Old Love</td>\n",
              "            <td>15780747</td>\n",
              "        </tr>\n",
              "        <tr>\n",
              "            <td>Running On Faith</td>\n",
              "            <td>12536275</td>\n",
              "        </tr>\n",
              "        <tr>\n",
              "            <td>Lonely Stranger</td>\n",
              "            <td>10894406</td>\n",
              "        </tr>\n",
              "        <tr>\n",
              "            <td>Layla</td>\n",
              "            <td>9490542</td>\n",
              "        </tr>\n",
              "        <tr>\n",
              "            <td>Tears In Heaven</td>\n",
              "            <td>9032835</td>\n",
              "        </tr>\n",
              "    </tbody>\n",
              "</table>"
            ]
          },
          "metadata": {},
          "execution_count": 25
        }
      ]
    },
    {
      "cell_type": "markdown",
      "metadata": {
        "id": "IwJ_E91n7LlD"
      },
      "source": [
        "## Задание 2\n",
        "Вывести названия всех треков и их исполнителей для всех треков жанра Rock, приобретенных сотрудниками Oracle.\n"
      ]
    },
    {
      "cell_type": "code",
      "source": [
        "%%sql\n",
        "SELECT t.Name AS track_name, ar.Name AS artist_name\n",
        "FROM tracks t\n",
        "INNER JOIN genres g ON t.GenreId = g.GenreId\n",
        "INNER JOIN invoice_items ii ON t.TrackId = ii.TrackId\n",
        "INNER JOIN invoices i ON ii.InvoiceId = i.InvoiceId\n",
        "INNER JOIN customers c ON i.CustomerId = c.CustomerId\n",
        "INNER JOIN artists ar ON t.AlbumId = ar.ArtistId\n",
        "WHERE g.Name = 'Rock'\n",
        "  AND c.Company = 'Oracle';"
      ],
      "metadata": {
        "id": "x3il7qiGiS1q",
        "colab": {
          "base_uri": "https://localhost:8080/",
          "height": 438
        },
        "outputId": "e9e21d0b-6d46-4420-e6d9-e91a5d96b08e"
      },
      "execution_count": 28,
      "outputs": [
        {
          "output_type": "stream",
          "name": "stdout",
          "text": [
            " * sqlite:///store.db\n",
            "Done.\n"
          ]
        },
        {
          "output_type": "execute_result",
          "data": {
            "text/plain": [
              "[('Sunday Bloody Sunday', 'Academy of St. Martin in the Fields, Sir Neville Marriner & William Bennett'),\n",
              " (\"New Year's Day\", 'Academy of St. Martin in the Fields, Sir Neville Marriner & William Bennett'),\n",
              " (\"That's The Way\", 'Stone Temple Pilots'),\n",
              " ('Ten Years Gone', 'System Of A Down'),\n",
              " ('Achilles Last Stand', 'Terry Bozzio, Tony Levin & Steve Stevens'),\n",
              " ('Tea For One', 'Terry Bozzio, Tony Levin & Steve Stevens'),\n",
              " ('No Quarter', 'The Clash'),\n",
              " ('Bad Moon Rising', 'Green Day'),\n",
              " ('Down On The Corner', 'Green Day'),\n",
              " ('Up Around The Bend', 'Green Day'),\n",
              " ('Nothing To Say', 'Nicolaus Esterhazy Sinfonia'),\n",
              " ('A Kind Of Magic', 'O Rappa'),\n",
              " ('I Want To Break Free', 'O Rappa'),\n",
              " ('Who Wants To Live Forever', 'O Rappa'),\n",
              " ('The Invisible Man', 'O Rappa'),\n",
              " ('The Three Sunrises', 'Orchestra of The Age of Enlightenment'),\n",
              " ('Sweetest Thing', 'Orchestra of The Age of Enlightenment')]"
            ],
            "text/html": [
              "<table>\n",
              "    <thead>\n",
              "        <tr>\n",
              "            <th>track_name</th>\n",
              "            <th>artist_name</th>\n",
              "        </tr>\n",
              "    </thead>\n",
              "    <tbody>\n",
              "        <tr>\n",
              "            <td>Sunday Bloody Sunday</td>\n",
              "            <td>Academy of St. Martin in the Fields, Sir Neville Marriner &amp; William Bennett</td>\n",
              "        </tr>\n",
              "        <tr>\n",
              "            <td>New Year&#x27;s Day</td>\n",
              "            <td>Academy of St. Martin in the Fields, Sir Neville Marriner &amp; William Bennett</td>\n",
              "        </tr>\n",
              "        <tr>\n",
              "            <td>That&#x27;s The Way</td>\n",
              "            <td>Stone Temple Pilots</td>\n",
              "        </tr>\n",
              "        <tr>\n",
              "            <td>Ten Years Gone</td>\n",
              "            <td>System Of A Down</td>\n",
              "        </tr>\n",
              "        <tr>\n",
              "            <td>Achilles Last Stand</td>\n",
              "            <td>Terry Bozzio, Tony Levin &amp; Steve Stevens</td>\n",
              "        </tr>\n",
              "        <tr>\n",
              "            <td>Tea For One</td>\n",
              "            <td>Terry Bozzio, Tony Levin &amp; Steve Stevens</td>\n",
              "        </tr>\n",
              "        <tr>\n",
              "            <td>No Quarter</td>\n",
              "            <td>The Clash</td>\n",
              "        </tr>\n",
              "        <tr>\n",
              "            <td>Bad Moon Rising</td>\n",
              "            <td>Green Day</td>\n",
              "        </tr>\n",
              "        <tr>\n",
              "            <td>Down On The Corner</td>\n",
              "            <td>Green Day</td>\n",
              "        </tr>\n",
              "        <tr>\n",
              "            <td>Up Around The Bend</td>\n",
              "            <td>Green Day</td>\n",
              "        </tr>\n",
              "        <tr>\n",
              "            <td>Nothing To Say</td>\n",
              "            <td>Nicolaus Esterhazy Sinfonia</td>\n",
              "        </tr>\n",
              "        <tr>\n",
              "            <td>A Kind Of Magic</td>\n",
              "            <td>O Rappa</td>\n",
              "        </tr>\n",
              "        <tr>\n",
              "            <td>I Want To Break Free</td>\n",
              "            <td>O Rappa</td>\n",
              "        </tr>\n",
              "        <tr>\n",
              "            <td>Who Wants To Live Forever</td>\n",
              "            <td>O Rappa</td>\n",
              "        </tr>\n",
              "        <tr>\n",
              "            <td>The Invisible Man</td>\n",
              "            <td>O Rappa</td>\n",
              "        </tr>\n",
              "        <tr>\n",
              "            <td>The Three Sunrises</td>\n",
              "            <td>Orchestra of The Age of Enlightenment</td>\n",
              "        </tr>\n",
              "        <tr>\n",
              "            <td>Sweetest Thing</td>\n",
              "            <td>Orchestra of The Age of Enlightenment</td>\n",
              "        </tr>\n",
              "    </tbody>\n",
              "</table>"
            ]
          },
          "metadata": {},
          "execution_count": 28
        }
      ]
    },
    {
      "cell_type": "markdown",
      "metadata": {
        "id": "0mmLXQXr7LlG"
      },
      "source": [
        "## Задание 3\n",
        "Для каждой компании вывести общее количество купленных джазовых композиций (если 0, можно не выводить).\n"
      ]
    },
    {
      "cell_type": "code",
      "metadata": {
        "id": "9kcvxk8OCrby",
        "colab": {
          "base_uri": "https://localhost:8080/",
          "height": 246
        },
        "outputId": "9ed65241-3f2b-45e0-a3fc-8ee8c83aa2af"
      },
      "source": [
        "%%sql\n",
        "SELECT c.Company, COUNT(t.TrackId)\n",
        "FROM customers c\n",
        "JOIN invoices i ON c.CustomerId = i.CustomerId\n",
        "JOIN invoice_items ii ON i.InvoiceId = ii.InvoiceId\n",
        "JOIN tracks t ON ii.TrackId = t.TrackId\n",
        "JOIN genres g ON t.GenreId = g.GenreId\n",
        "WHERE g.Name = 'Jazz'\n",
        "  AND c.Company IS NOT NULL\n",
        "GROUP BY c.Company\n",
        "HAVING COUNT(t.TrackId) > 0;\n"
      ],
      "execution_count": 30,
      "outputs": [
        {
          "output_type": "stream",
          "name": "stdout",
          "text": [
            " * sqlite:///store.db\n",
            "Done.\n"
          ]
        },
        {
          "output_type": "execute_result",
          "data": {
            "text/plain": [
              "[('Apple Inc.', 2),\n",
              " ('BMW', 1),\n",
              " ('Google Inc.', 12),\n",
              " ('JetBrains s.r.o.', 3),\n",
              " ('Microsoft Corporation', 15),\n",
              " ('Oracle', 3),\n",
              " ('SAP', 1),\n",
              " ('Telus', 2)]"
            ],
            "text/html": [
              "<table>\n",
              "    <thead>\n",
              "        <tr>\n",
              "            <th>Company</th>\n",
              "            <th>COUNT(t.TrackId)</th>\n",
              "        </tr>\n",
              "    </thead>\n",
              "    <tbody>\n",
              "        <tr>\n",
              "            <td>Apple Inc.</td>\n",
              "            <td>2</td>\n",
              "        </tr>\n",
              "        <tr>\n",
              "            <td>BMW</td>\n",
              "            <td>1</td>\n",
              "        </tr>\n",
              "        <tr>\n",
              "            <td>Google Inc.</td>\n",
              "            <td>12</td>\n",
              "        </tr>\n",
              "        <tr>\n",
              "            <td>JetBrains s.r.o.</td>\n",
              "            <td>3</td>\n",
              "        </tr>\n",
              "        <tr>\n",
              "            <td>Microsoft Corporation</td>\n",
              "            <td>15</td>\n",
              "        </tr>\n",
              "        <tr>\n",
              "            <td>Oracle</td>\n",
              "            <td>3</td>\n",
              "        </tr>\n",
              "        <tr>\n",
              "            <td>SAP</td>\n",
              "            <td>1</td>\n",
              "        </tr>\n",
              "        <tr>\n",
              "            <td>Telus</td>\n",
              "            <td>2</td>\n",
              "        </tr>\n",
              "    </tbody>\n",
              "</table>"
            ]
          },
          "metadata": {},
          "execution_count": 30
        }
      ]
    },
    {
      "cell_type": "markdown",
      "metadata": {
        "id": "M2JDkqnT7LlG"
      },
      "source": [
        "## Задание 4\n",
        "Вывести топ 3 плейлиста по продолжительности (продолжительность плейлиста = сумма длин треков в нём). Только название и продолжительность (в часах).\n"
      ]
    },
    {
      "cell_type": "code",
      "metadata": {
        "id": "isEzp0r0Crzy",
        "colab": {
          "base_uri": "https://localhost:8080/",
          "height": 139
        },
        "outputId": "8101b6b9-3594-4c3d-e6eb-b082f2cb7fa7"
      },
      "source": [
        "%%sql\n",
        "SELECT pl.Name AS playlist_name, SUM(t.Milliseconds) / (1000.0 * 60 * 60) AS duration_hours\n",
        "FROM playlists pl\n",
        "JOIN playlist_track pt ON pl.PlaylistId = pt.PlaylistId\n",
        "JOIN tracks t ON pt.TrackId = t.TrackId\n",
        "GROUP BY pl.Name\n",
        "ORDER BY duration_hours DESC\n",
        "LIMIT 3;\n"
      ],
      "execution_count": 31,
      "outputs": [
        {
          "output_type": "stream",
          "name": "stdout",
          "text": [
            " * sqlite:///store.db\n",
            "Done.\n"
          ]
        },
        {
          "output_type": "execute_result",
          "data": {
            "text/plain": [
              "[('From That TV Show', 138.57329333333334),\n",
              " ('Hidden Gems', 138.53488833333333),\n",
              " ('90’s Music', 10.550303333333334)]"
            ],
            "text/html": [
              "<table>\n",
              "    <thead>\n",
              "        <tr>\n",
              "            <th>playlist_name</th>\n",
              "            <th>duration_hours</th>\n",
              "        </tr>\n",
              "    </thead>\n",
              "    <tbody>\n",
              "        <tr>\n",
              "            <td>From That TV Show</td>\n",
              "            <td>138.57329333333334</td>\n",
              "        </tr>\n",
              "        <tr>\n",
              "            <td>Hidden Gems</td>\n",
              "            <td>138.53488833333333</td>\n",
              "        </tr>\n",
              "        <tr>\n",
              "            <td>90’s Music</td>\n",
              "            <td>10.550303333333334</td>\n",
              "        </tr>\n",
              "    </tbody>\n",
              "</table>"
            ]
          },
          "metadata": {},
          "execution_count": 31
        }
      ]
    },
    {
      "cell_type": "markdown",
      "metadata": {
        "id": "Ni7Mi7ur7LlH"
      },
      "source": [
        "## Задание 5\n",
        "Для каждого набора (жанр, тип медиа) вывести количество треков в них, причем вывести только те наборы, для которых **все** треки стоят больше 1$ и для которых в наборе есть хотя бы один трек."
      ]
    },
    {
      "cell_type": "code",
      "source": [
        "%%sql\n",
        "SELECT g.Name AS genre_name, m.Name AS media_type_name, COUNT(t.TrackId) AS track_count\n",
        "FROM tracks t\n",
        "JOIN genres g ON t.GenreId = g.GenreId\n",
        "JOIN media_types m ON t.MediaTypeId = m.MediaTypeId\n",
        "GROUP BY g.Name, m.Name\n",
        "HAVING MIN(t.UnitPrice) > 1 AND COUNT(t.TrackId) > 0;\n",
        "\n"
      ],
      "metadata": {
        "id": "Y-psouvxm9vF",
        "colab": {
          "base_uri": "https://localhost:8080/",
          "height": 182
        },
        "outputId": "90a360b9-e249-46fb-a933-1c953f796998"
      },
      "execution_count": 32,
      "outputs": [
        {
          "output_type": "stream",
          "name": "stdout",
          "text": [
            " * sqlite:///store.db\n",
            "Done.\n"
          ]
        },
        {
          "output_type": "execute_result",
          "data": {
            "text/plain": [
              "[('Blues', 'AAC audio file', 9),\n",
              " ('Comedy', 'MPEG audio file', 17),\n",
              " ('Sci Fi & Fantasy', 'MPEG audio file', 26),\n",
              " ('Science Fiction', 'MPEG audio file', 13),\n",
              " ('TV Shows', 'MPEG audio file', 93)]"
            ],
            "text/html": [
              "<table>\n",
              "    <thead>\n",
              "        <tr>\n",
              "            <th>genre_name</th>\n",
              "            <th>media_type_name</th>\n",
              "            <th>track_count</th>\n",
              "        </tr>\n",
              "    </thead>\n",
              "    <tbody>\n",
              "        <tr>\n",
              "            <td>Blues</td>\n",
              "            <td>AAC audio file</td>\n",
              "            <td>9</td>\n",
              "        </tr>\n",
              "        <tr>\n",
              "            <td>Comedy</td>\n",
              "            <td>MPEG audio file</td>\n",
              "            <td>17</td>\n",
              "        </tr>\n",
              "        <tr>\n",
              "            <td>Sci Fi &amp; Fantasy</td>\n",
              "            <td>MPEG audio file</td>\n",
              "            <td>26</td>\n",
              "        </tr>\n",
              "        <tr>\n",
              "            <td>Science Fiction</td>\n",
              "            <td>MPEG audio file</td>\n",
              "            <td>13</td>\n",
              "        </tr>\n",
              "        <tr>\n",
              "            <td>TV Shows</td>\n",
              "            <td>MPEG audio file</td>\n",
              "            <td>93</td>\n",
              "        </tr>\n",
              "    </tbody>\n",
              "</table>"
            ]
          },
          "metadata": {},
          "execution_count": 32
        }
      ]
    }
  ]
}